{
 "cells": [
  {
   "cell_type": "code",
   "execution_count": 1,
   "id": "75ebab15",
   "metadata": {},
   "outputs": [
    {
     "name": "stdout",
     "output_type": "stream",
     "text": [
      "c:\\Doc_Python\\122-CVorbit-Face-Detection-Scratch\\datasets\\ass\n"
     ]
    }
   ],
   "source": [
    "# Python program to rename all file\n",
    "# names in your directory \n",
    "import os\n",
    "# os.chdir('D:\\\\Geeksforgeeks') \n",
    "print(os.getcwd())"
   ]
  },
  {
   "cell_type": "code",
   "execution_count": 6,
   "id": "4e5cef12",
   "metadata": {},
   "outputs": [],
   "source": [
    "for count, f in enumerate(os.listdir()):\n",
    "    f_name, f_ext = os.path.splitext(f)\n",
    "    f_name = \"Dybala_\" + str(count)\n",
    "\n",
    "    new_name = f'{f_name}{f_ext}'\n",
    "    os.rename(f, new_name)"
   ]
  },
  {
   "cell_type": "code",
   "execution_count": null,
   "id": "ba9ce1b3",
   "metadata": {},
   "outputs": [],
   "source": []
  }
 ],
 "metadata": {
  "kernelspec": {
   "display_name": "Python 3",
   "language": "python",
   "name": "python3"
  },
  "language_info": {
   "codemirror_mode": {
    "name": "ipython",
    "version": 3
   },
   "file_extension": ".py",
   "mimetype": "text/x-python",
   "name": "python",
   "nbconvert_exporter": "python",
   "pygments_lexer": "ipython3",
   "version": "3.11.9"
  }
 },
 "nbformat": 4,
 "nbformat_minor": 5
}
